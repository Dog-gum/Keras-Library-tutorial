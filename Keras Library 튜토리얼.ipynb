{
 "cells": [
  {
   "cell_type": "markdown",
   "id": "b6a48826",
   "metadata": {},
   "source": [
    "# About Keras"
   ]
  },
  {
   "cell_type": "markdown",
   "id": "b2b75fed",
   "metadata": {},
   "source": [
    "keras는 딥러닝 API이다. Tensorflow 기반으로 작동하는. 빠른 실험에 초점을 둔 라이브러리. "
   ]
  },
  {
   "cell_type": "markdown",
   "id": "170cb1f2",
   "metadata": {},
   "source": [
    "## First contact with Keras"
   ]
  },
  {
   "cell_type": "markdown",
   "id": "420d3ba7",
   "metadata": {},
   "source": [
    "keras의 core data structure는 layers와 models이다. 가장 간단한 형태의 model이 Sequential model(linear stack of layers)이다. 더 복잡한 구조는 Keras functional API를 사용해야한다."
   ]
  },
  {
   "cell_type": "markdown",
   "id": "305e3f6b",
   "metadata": {},
   "source": [
    "#### Sequential model"
   ]
  },
  {
   "cell_type": "code",
   "execution_count": null,
   "id": "4201fa21",
   "metadata": {},
   "outputs": [],
   "source": [
    "from tensorflow.keras.models import Sequential\n",
    "\n",
    "model = Sequential()"
   ]
  },
  {
   "cell_type": "markdown",
   "id": "95ed1f85",
   "metadata": {},
   "source": [
    "#### Stacking layers is as easy as -> .add()"
   ]
  },
  {
   "cell_type": "code",
   "execution_count": null,
   "id": "d140a338",
   "metadata": {},
   "outputs": [],
   "source": [
    "from tensorflow.keras.layers import Dense\n",
    "\n",
    "model.add(Dense(units=64, activation='relu'))\n",
    "model.add(Dense(units=10, activation='softmax'))"
   ]
  },
  {
   "cell_type": "markdown",
   "id": "e63cc176",
   "metadata": {},
   "source": [
    "#### Once your model looks good, configure its learning process -> .compile()"
   ]
  },
  {
   "cell_type": "code",
   "execution_count": 7,
   "id": "56d06264",
   "metadata": {},
   "outputs": [],
   "source": [
    "model.compile(loss='categorical_crossentropy',\n",
    "              optimizer='sgd',\n",
    "              metrics=['accuracy'])"
   ]
  },
  {
   "cell_type": "markdown",
   "id": "8205ffe7",
   "metadata": {},
   "source": [
    "# Introduction to Keras for Engineers"
   ]
  },
  {
   "cell_type": "markdown",
   "id": "5b19f8f5",
   "metadata": {},
   "source": [
    "1. model을 training하기 전에 데이터를 어떨게 준비해야하는지(데이터를 Numpy 혹은 tf.data.Dataset으로 설정)\n",
    "2. data preprocessing하기\n",
    "3. data를 유용한 형태로 바꿔서 model을 만들기(Keras Functional API를 사용해서)\n",
    "4. model을 훈련시키기. fit() 메소드를 활용해서.\n",
    "5. 모델 평가하기.\n",
    "6. speed up하기.\n",
    "7. model을 정제하기."
   ]
  },
  {
   "cell_type": "markdown",
   "id": "ccb64d55",
   "metadata": {},
   "source": [
    "#### Data loading & preprocessing"
   ]
  },
  {
   "cell_type": "markdown",
   "id": "955e000d",
   "metadata": {},
   "source": [
    "Neural networks는 raw data를 처리하지 않는다. vectorized, standardized 데이터를 이용해야한다.\n",
    "\n",
    "Text file -> string tensors-split into words-word indexing-turn into integer tensors.\n",
    "Images -> integer tensors-floating point-normalized to small values(0 to 1)\n",
    "CSV data -> parsed"
   ]
  },
  {
   "cell_type": "markdown",
   "id": "46d755b8",
   "metadata": {},
   "source": [
    "### Data loading"
   ]
  },
  {
   "cell_type": "markdown",
   "id": "11aa932e",
   "metadata": {},
   "source": [
    "keras model들은 3가지 inputs만 받는다.\n",
    "1. Numpy arrays\n",
    "2. Tensorflow Dataset objects\n",
    "3. Python generators\n",
    "\n",
    "model training을 시키기 전에 당신의 데이터를 3개 중에 하나의 형태로 바꿔야한다. 만약 대용량의 데이터나 GPU를 통해서 training할 경우 2번 방법을 이용하는 것이 좋다. \n",
    "\n",
    "2번의 data loading method\n",
    "-tf.keras.preprocessing.image_dataset_from_directory: image 파일을 class-specific 폴더로 labeling 시킴.\n",
    "-tf.keras.preprocessing.text_dataset_from_directory: text 파일 로딩\n",
    "-tf.data.experimental.make_csv_dataset: csv 파일 로딩"
   ]
  },
  {
   "cell_type": "markdown",
   "id": "b195e30a",
   "metadata": {},
   "source": [
    "##### example-image"
   ]
  },
  {
   "cell_type": "markdown",
   "id": "1121b7ce",
   "metadata": {},
   "source": [
    "suppose image files' path."
   ]
  },
  {
   "cell_type": "code",
   "execution_count": null,
   "id": "d1f44d19",
   "metadata": {},
   "outputs": [],
   "source": [
    "main_directory/\n",
    "...class_a/\n",
    "......a_image_1.jpg\n",
    "......a_image_2.jpg\n",
    "...class_b/\n",
    "......b_image_1.jpg\n",
    "......b_image_2.jpg"
   ]
  },
  {
   "cell_type": "markdown",
   "id": "12b66ef1",
   "metadata": {},
   "source": [
    "그러면 image파일을 loadin할때"
   ]
  },
  {
   "cell_type": "code",
   "execution_count": null,
   "id": "4a97df6b",
   "metadata": {},
   "outputs": [],
   "source": [
    "# Create a dataset.\n",
    "dataset = keras.preprocessing.image_dataset_from_directory(\n",
    "  'path/to/main_directory', batch_size=64, image_size=(200, 200))\n",
    "#batch_size는 몇개의 샘플로 가중치를 갱신할 것인지 설정 = 몇개의 샘플을 테스트할지\n",
    "\n",
    "# For demonstration, iterate over the batches yielded by the dataset.\n",
    "for data, labels in dataset:\n",
    "   print(data.shape)  # (64, 200, 200, 3)\n",
    "   print(data.dtype)  # float32\n",
    "   print(labels.shape)  # (64,)\n",
    "   print(labels.dtype)  # int32"
   ]
  },
  {
   "cell_type": "markdown",
   "id": "2b55eb61",
   "metadata": {},
   "source": [
    "##### example-text"
   ]
  },
  {
   "cell_type": "markdown",
   "id": "a68530b5",
   "metadata": {},
   "source": [
    ".txt 파일을 가지고 있을 때"
   ]
  },
  {
   "cell_type": "code",
   "execution_count": null,
   "id": "3a024b9a",
   "metadata": {},
   "outputs": [],
   "source": [
    "dataset = keras.preprocessing.text_dataset_from_directory(\n",
    "  'path/to/main_directory', batch_size=64)\n",
    "\n",
    "# For demonstration, iterate over the batches yielded by the dataset.\n",
    "for data, labels in dataset:\n",
    "   print(data.shape)  # (64,)\n",
    "   print(data.dtype)  # string\n",
    "   print(labels.shape)  # (64,)\n",
    "   print(labels.dtype)  # int32"
   ]
  },
  {
   "cell_type": "code",
   "execution_count": null,
   "id": "bc0a0ede",
   "metadata": {},
   "outputs": [],
   "source": []
  }
 ],
 "metadata": {
  "kernelspec": {
   "display_name": "Python 3",
   "language": "python",
   "name": "python3"
  },
  "language_info": {
   "codemirror_mode": {
    "name": "ipython",
    "version": 3
   },
   "file_extension": ".py",
   "mimetype": "text/x-python",
   "name": "python",
   "nbconvert_exporter": "python",
   "pygments_lexer": "ipython3",
   "version": "3.8.8"
  }
 },
 "nbformat": 4,
 "nbformat_minor": 5
}
